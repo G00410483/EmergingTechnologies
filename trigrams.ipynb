{
 "cells": [
  {
   "cell_type": "code",
   "execution_count": null,
   "metadata": {},
   "outputs": [],
   "source": [
    "# Function to read and clean text files\n",
    "def load_and_clean_text(file_paths):\n",
    "    \"\"\"\n",
    "    Load and clean text from given file paths.\n",
    "    The cleaning process includes:\n",
    "    - Removing non-ASCII characters\n",
    "    - Converting all letters to uppercase\n",
    "    - Removing punctuation except for full stops\n",
    "    - Stripping leading and trailing whitespace\n",
    "    \"\"\"\n",
    "    cleaned_text = ''\n"
   ]
  }
 ],
 "metadata": {
  "kernelspec": {
   "display_name": "Python 3",
   "language": "python",
   "name": "python3"
  },
  "language_info": {
   "name": "python",
   "version": "3.13.0"
  }
 },
 "nbformat": 4,
 "nbformat_minor": 2
}
