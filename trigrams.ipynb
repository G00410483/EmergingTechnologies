{
 "cells": [
  {
   "cell_type": "code",
   "execution_count": 6,
   "metadata": {},
   "outputs": [],
   "source": [
    "# Function to read and clean text files\n",
    "def load_and_clean_text(file_paths):\n",
    "    \"\"\"\n",
    "    Load and clean text from given file paths.\n",
    "    The cleaning process includes:\n",
    "    - Removing non-ASCII characters\n",
    "    - Converting all letters to uppercase\n",
    "    - Removing punctuation except for full stops\n",
    "    - Stripping leading and trailing whitespace\n",
    "    \"\"\"\n",
    "    cleaned_text = ''\n",
    "\n",
    "     # Iterate over file paths\n",
    "    for path in file_paths:\n",
    "        # Open file for reading\n",
    "        # Use utf-8 encoding to support non-ASCII characters\n",
    "        with open(path, 'r', encoding='utf-8') as file:\n",
    "            # Read the file content\n",
    "            text = file.read()\n",
    "            # Remove unwanted characters and convert to uppercase\n",
    "            # Only keep alphabetic characters, spaces, and full stops\n",
    "            # ''.join() creates a new string by joining the characters\n",
    "            cleaned_text += ''.join(\n",
    "                ch for ch in text.upper() if ch.isalpha() or ch in [' ', '.']\n",
    "            )\n",
    "\n",
    "      # Strip any extra whitespace from the beginning and end\n",
    "    return cleaned_text.strip()\n"
   ]
  },
  {
   "cell_type": "code",
   "execution_count": 7,
   "metadata": {},
   "outputs": [],
   "source": [
    "# File paths\n",
    "file_paths = ['file1.txt', 'file2.txt', 'file3.txt', 'file4.txt', 'file5.txt']"
   ]
  },
  {
   "cell_type": "code",
   "execution_count": 8,
   "metadata": {},
   "outputs": [],
   "source": [
    "# Load and clean text\n",
    "cleaned_text = load_and_clean_text(file_paths)"
   ]
  },
  {
   "cell_type": "code",
   "execution_count": 14,
   "metadata": {},
   "outputs": [],
   "source": [
    "# Function to generate trigrams and count their occurrences\n",
    "def generate_trigrams(text):\n",
    "    \"\"\"\n",
    "    Generate trigrams from the cleaned text and count their occurrences.\n",
    "    Returns a dictionary where keys are trigrams and values are their counts.\n",
    "    \"\"\"\n",
    "    # Dictionary to store trigram counts\n",
    "    trigram_counts = {}\n",
    "\n",
    "    # Loop through the text to extract trigrams \n",
    "    for i in range(len(text) - 2):\n",
    "        trigram = text[i:i+3]  # Extract the trigram starting at index 'i'\n",
    "        \n",
    "        # If trigram already exists in the dictionary, increment its count\n",
    "        if trigram in trigram_counts:\n",
    "            trigram_counts[trigram] += 1\n",
    "        else:\n",
    "            # If the trigram is encountered for the first time, initialize its count to 1\n",
    "            trigram_counts[trigram] = 1\n",
    "\n",
    "     # Return the dictionary containing trigram counts\n",
    "    return trigram_counts"
   ]
  },
  {
   "cell_type": "code",
   "execution_count": 16,
   "metadata": {},
   "outputs": [],
   "source": [
    "# Generate trigrams from the cleaned text provided\n",
    "# 'cleaned_text' is expected to be a string, which has already been processed \n",
    "# trigram_counts holds dictionary where the keys are trigrams and the value are the counts of occurrences\n",
    "trigram_counts = generate_trigrams(cleaned_text)"
   ]
  },
  {
   "cell_type": "code",
   "execution_count": 23,
   "metadata": {},
   "outputs": [],
   "source": [
    "# Function to display the top N trigrams\n",
    "def display_top_trigrams(trigram_counts, n=100):\n",
    "    \"\"\"\n",
    "    Display the top N trigrams based on their counts.\n",
    "    \n",
    "    Args:\n",
    "        trigram_counts (dict): A dictionary where the keys are trigrams (3-character sequences)\n",
    "                               and the values are their corresponding counts (occurrences).\n",
    "        n (int, optional): The number of top trigrams to display.\n",
    "    \"\"\"\n",
    "    \n",
    "    # Sort the trigrams by their counts in descending order (most frequent first)\n",
    "    # sorted_trigrams will be a list of tuples (trigram, count), sorted by count\n",
    "    sorted_trigrams = sorted(trigram_counts.items(), key=lambda item: item[1], reverse=True)\n"
   ]
  },
  {
   "cell_type": "code",
   "execution_count": null,
   "metadata": {},
   "outputs": [],
   "source": []
  }
 ],
 "metadata": {
  "kernelspec": {
   "display_name": "Python 3",
   "language": "python",
   "name": "python3"
  },
  "language_info": {
   "codemirror_mode": {
    "name": "ipython",
    "version": 3
   },
   "file_extension": ".py",
   "mimetype": "text/x-python",
   "name": "python",
   "nbconvert_exporter": "python",
   "pygments_lexer": "ipython3",
   "version": "3.13.0"
  }
 },
 "nbformat": 4,
 "nbformat_minor": 2
}
